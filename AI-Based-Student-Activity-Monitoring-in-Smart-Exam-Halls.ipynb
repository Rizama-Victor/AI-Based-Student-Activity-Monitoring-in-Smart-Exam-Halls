{
 "cells": [
  {
   "cell_type": "markdown",
   "id": "d6f1451a-cd90-446e-a8c5-99ca37af2bda",
   "metadata": {},
   "source": [
    "### Importation of Necessary Libraries"
   ]
  },
  {
   "cell_type": "code",
   "execution_count": null,
   "id": "c3cbd84d-2dde-42c5-9bf5-548fe5070254",
   "metadata": {},
   "outputs": [],
   "source": [
    "# -- imports OpenCV library for image and video processing\n",
    "\n",
    "import cv2 \n",
    "\n",
    "# -- imports imutils library for convenient image resizing and manipulation\n",
    "\n",
    "import imutils\n",
    "\n",
    "# -- imports the operating system library for file and directory operations\n",
    "\n",
    "import os\n",
    "\n",
    "# -- imports the time library for timing and delay-related operations\n",
    "\n",
    "import time\n",
    "\n",
    "# -- imports the datetime library for timestamping saved images and videos\n",
    "\n",
    "from datetime import datetime"
   ]
  },
  {
   "cell_type": "markdown",
   "id": "237657bf-742a-4bf6-b425-d6225c9f70d0",
   "metadata": {},
   "source": [
    "### Initial Setup and Configuration"
   ]
  },
  {
   "cell_type": "code",
   "execution_count": null,
   "id": "b96eb18e-92e7-4937-bade-182266ff5a3f",
   "metadata": {},
   "outputs": [],
   "source": [
    "save_path = \"detections\" # directory to store captured cheating detections (images/videos)\n",
    "os.makedirs(save_path, exist_ok=True) # creates the folder if it doesn't exist"
   ]
  },
  {
   "cell_type": "code",
   "execution_count": null,
   "id": "63fe4918-1b6e-49d6-aa51-a3018b5262e2",
   "metadata": {},
   "outputs": [],
   "source": [
    "face_cascade = cv2.CascadeClassifier(cv2.data.haarcascades + \"haarcascade_frontalface_default.xml\") # loads pre-trained Haar cascade for face detection"
   ]
  },
  {
   "cell_type": "code",
   "execution_count": null,
   "id": "d8345ef4-8696-47fe-bed4-b321468db8d7",
   "metadata": {},
   "outputs": [],
   "source": [
    "cap = cv2.VideoCapture(0)  # initialize camera (0 = default webcam or CSI camera)"
   ]
  },
  {
   "cell_type": "code",
   "execution_count": null,
   "id": "869dc89a-7774-4e91-b3f3-38e1f6984516",
   "metadata": {},
   "outputs": [],
   "source": [
    "# sets the desired frame dimensions for the video feed\n",
    "frame_width = 640\n",
    "frame_height = 480\n",
    "cap.set(cv2.CAP_PROP_FRAME_WIDTH, frame_width)\n",
    "cap.set(cv2.CAP_PROP_FRAME_HEIGHT, frame_height)"
   ]
  },
  {
   "cell_type": "code",
   "execution_count": null,
   "id": "73c40ef9-4efd-4f12-b782-e7b89038dd43",
   "metadata": {},
   "outputs": [],
   "source": [
    "# defines a reference center point of the frame for face position comparison\n",
    "center_x = frame_width // 2\n",
    "center_y = frame_height // 2\n",
    "margin = 50 # sets the threshold tolerance for detecting off-center movement\n"
   ]
  },
  {
   "cell_type": "code",
   "execution_count": null,
   "id": "d845ff04-d229-43f2-a07d-044c3d7c8993",
   "metadata": {},
   "outputs": [],
   "source": [
    "# defines the flags and variables for video recording and timing\n",
    "recording = False\n",
    "record_start_time = None\n",
    "cheating_start_time = None\n",
    "out = None # videowriter object placeholder\n",
    "print(\"Press 'q' to quit.\")"
   ]
  },
  {
   "cell_type": "markdown",
   "id": "c70d9821-dffe-4a80-a022-77e48b8209f2",
   "metadata": {},
   "source": [
    "### Main loop: Frame Capture and Processing"
   ]
  },
  {
   "cell_type": "code",
   "execution_count": null,
   "id": "130761cc-bce8-4c71-9548-ed2c972e9900",
   "metadata": {},
   "outputs": [],
   "source": [
    "while True:\n",
    "    # captures a single frame from the camera\n",
    "    ret, frame = cap.read()\n",
    "    if not ret or frame is None:\n",
    "        print(\" Warning: Failed to grab frame.\")\n",
    "        continue\n",
    "\n",
    "    # recalculates the frame center (in case of resolution changes)\n",
    "    center_x = frame.shape[1] // 2\n",
    "    center_y = frame.shape[0] // 2\n",
    "\n",
    "    # resizes the frame to maintain consistent width and improve processing speed\n",
    "    try:\n",
    "        frame = imutils.resize(frame, width=frame_width)\n",
    "    except Exception as e:\n",
    "        print(f\"Resize error: {e}\")\n",
    "        continue\n",
    "\n",
    "    # converts the frame to grayscale for to reduce computational load and for faster face detection\n",
    "    gray = cv2.cvtColor(frame, cv2.COLOR_BGR2GRAY)\n",
    "\n",
    "    # detects faces in the grayscale frame\n",
    "    faces = face_cascade.detectMultiScale(gray, scaleFactor=1.1, minNeighbors=5)\n",
    "\n",
    "    cheating_detected = False # flag to track cheating instances\n",
    "\n",
    "    # THE FACE DETECTION AND BEHAVIOR ANALYSIS\n",
    "    \n",
    "    for (x, y, w, h) in faces:\n",
    "\n",
    "        # computes the center of the detected face\n",
    "        face_center_x = x + w // 2\n",
    "        face_center_y = y + h // 2\n",
    "\n",
    "        # calculates the displacement from the frame center\n",
    "        dx = face_center_x - center_x\n",
    "        dy = face_center_y - center_y\n",
    "\n",
    "        # Determines the face posture/direction based on the position relative to the center\n",
    "        if abs(dx) < margin and abs(dy) < margin:\n",
    "            direction = \"good sitting posture\"\n",
    "        elif abs(dx) > abs(dy):\n",
    "            direction = \"cheating\" # horizontal movements likely indicate giraffing or looking sideways\n",
    "        else:\n",
    "            if dy > margin:\n",
    "                direction = \"good sitting posture\"\n",
    "            elif dy < -margin:\n",
    "                direction = \"warning\" # suspicious upward movements\n",
    "            else:\n",
    "                direction = \"good sitting posture\"\n",
    "\n",
    "        # Assigns bounding box colors for visualization\n",
    "        if direction == \"cheating\":\n",
    "            box_color = (0, 0, 255) # Red - (BGR from format)\n",
    "            cheating_detected = True\n",
    "        elif direction == \"warning\":\n",
    "            box_color = (0, 255, 255) # Yellow - (BGR from format)\n",
    "        else:\n",
    "            box_color = (139, 0, 0) # Red - (BGR from format)\n",
    "\n",
    "        # Draws bounding box & label on around the detected face\n",
    "        cv2.rectangle(frame, (x, y), (x + w, y + h), box_color, 2)\n",
    "        cv2.putText(frame, direction, (x, y - 10), cv2.FONT_HERSHEY_SIMPLEX,\n",
    "                    0.9, box_color, 2)\n",
    "\n",
    "    # THE CHEATING DETECTION AND RECORDING\n",
    "    \n",
    "    if cheating_detected:\n",
    "        \n",
    "        # Starts timing the cheating instance\n",
    "        if cheating_start_time is None:\n",
    "            cheating_start_time = time.time()\n",
    "        \n",
    "        # Starts recording if cheating persists for atleast 2 seconds\n",
    "        elif time.time() - cheating_start_time >= 2 and not recording:\n",
    "            timestamp_str = datetime.now().strftime(\"%Y%m%d_%H%M%S\")\n",
    "\n",
    "            # Captures a snapshot image with a timestamp\n",
    "            screenshot_path = os.path.join(save_path, f\"cheating_{timestamp_str}.jpeg\")\n",
    "            snapshot_frame = frame.copy()\n",
    "            cv2.putText(snapshot_frame, datetime.now().strftime(\"%Y-%m-%d %H:%M:%S\"),\n",
    "                        (10, frame_height - 10), cv2.FONT_HERSHEY_SIMPLEX,\n",
    "                        0.7, (255, 255, 255), 2)\n",
    "            cv2.imwrite(screenshot_path, snapshot_frame)\n",
    "            print(f\"📸 Full-frame screenshot saved: {screenshot_path}\")\n",
    "\n",
    "            # Initializes Video Writer to record a short clip \n",
    "            video_path = os.path.join(save_path, f\"cheating_{timestamp_str}.mp4\")\n",
    "            fourcc = cv2.VideoWriter_fourcc(*'mp4v')\n",
    "            out = cv2.VideoWriter(video_path, fourcc, 20.0, (frame_width, frame_height))\n",
    "            record_start_time = time.time()\n",
    "            recording = True\n",
    "            print(f\"🎥 Recording full frame: {video_path}\")\n",
    "    else:\n",
    "        cheating_start_time = None # resets if no suspicious activity was detected\n",
    "        \n",
    "\n",
    "    # RECORDING MANAGEMENT\n",
    "    \n",
    "    if recording:\n",
    "        # Adds a timestamp overlay to each recorded frame\n",
    "        frame_with_ts = frame.copy()\n",
    "        cv2.putText(frame_with_ts, datetime.now().strftime(\"%Y-%m-%d %H:%M:%S\"),\n",
    "                    (10, frame_height - 10), cv2.FONT_HERSHEY_SIMPLEX,\n",
    "                    0.7, (255, 255, 255), 2)\n",
    "        \n",
    "        # saves frame to the recording file\n",
    "        out.write(frame_with_ts)\n",
    "\n",
    "        # stops recording after 10 seconds\n",
    "        if time.time() - record_start_time >= 10: \n",
    "            recording = False\n",
    "            out.release()\n",
    "            print(\"✅ Recording stopped after 10 seconds.\")\n",
    "\n",
    "    # DISPLAYS THE RESULTS IN REAL-TIME\n",
    "\n",
    "    # uncomment the next line to visualize the frame center on the live feed\n",
    "   # cv2.circle(frame, (center_x, center_y), 5, (0, 255, 255), -1)\n",
    "\n",
    "    cv2.imshow(\"Face Tracker\", frame)\n",
    "\n",
    "    # exits the loop when the user presses \"q\"\n",
    "    if cv2.waitKey(1) & 0xFF == ord('q'):\n",
    "        break"
   ]
  },
  {
   "cell_type": "markdown",
   "id": "66fb6010-2fdc-42f5-8ca9-53bd951e4ffa",
   "metadata": {},
   "source": [
    "### Cleanup Operations"
   ]
  },
  {
   "cell_type": "code",
   "execution_count": null,
   "id": "c28cb4e7-a27c-47f5-b8df-150874dad663",
   "metadata": {},
   "outputs": [],
   "source": [
    "cap.release() # releases the cameras\n",
    "if out:\n",
    "    out.release() # releases video capture of active\n",
    "cv2.destroyAllWindows() # closes all OpenCV windows\n"
   ]
  }
 ],
 "metadata": {
  "kernelspec": {
   "display_name": "Python 3 (ipykernel)",
   "language": "python",
   "name": "python3"
  },
  "language_info": {
   "codemirror_mode": {
    "name": "ipython",
    "version": 3
   },
   "file_extension": ".py",
   "mimetype": "text/x-python",
   "name": "python",
   "nbconvert_exporter": "python",
   "pygments_lexer": "ipython3",
   "version": "3.12.4"
  }
 },
 "nbformat": 4,
 "nbformat_minor": 5
}
